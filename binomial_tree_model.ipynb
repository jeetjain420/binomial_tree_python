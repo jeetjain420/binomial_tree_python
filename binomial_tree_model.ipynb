{
 "cells": [
  {
   "cell_type": "markdown",
   "metadata": {},
   "source": [
    "Binomial tree is a graphical representation of possible intrinsic\n",
    "values that an option may take at different nodes or time periods, whose value of option depends on the underlying stock or bond, and the value of the option at any node depends on the probability that the price of the underlying asset will either increase or descrease at any give node."
   ]
  },
  {
   "cell_type": "markdown",
   "metadata": {},
   "source": [
    "It has a downside- an asset can only be worth exaclty one of the two possible values, which is not quite a realistic measure to predict."
   ]
  },
  {
   "cell_type": "markdown",
   "metadata": {},
   "source": [
    "For example, \n",
    "Stock A price = $100\n",
    "Option Strike Price = $100\n",
    "Expiration Date = 1 year\n",
    "R(interest rate) = 5%\n",
    "\n",
    "At the end of the year,\n",
    "probablity of stock rising to $125 = 50%\n",
    "probablity of stock dropping to $90 = 50%\n",
    "If stock rises, value of option = $125(current) - $100(option strike price)\n",
    "\n",
    "Hence, the option value will be\n",
    "\n",
    "Option value = [(probablity of rise* up value) + probablity of drop*down value) / (1 + R)] \n",
    "\n",
    "Option value = (0.50*25)+(0.50*10)/(1+0.05) = $16.66"
   ]
  },
  {
   "cell_type": "code",
   "execution_count": 16,
   "metadata": {},
   "outputs": [],
   "source": [
    "import numpy as np\n",
    "import seaborn as sns\n",
    "import matplotlib.pyplot as plt"
   ]
  },
  {
   "cell_type": "code",
   "execution_count": null,
   "metadata": {},
   "outputs": [],
   "source": []
  },
  {
   "cell_type": "code",
   "execution_count": 2,
   "metadata": {},
   "outputs": [],
   "source": [
    "#parameters\n",
    "#mean\n",
    "mu = 0.1\n",
    "#volatility\n",
    "sigma = 0.15\n",
    "#starting price\n",
    "S0 = 1\n",
    "#no. of simulations\n",
    "N = 10000\n",
    "#time horizon\n",
    "T = [21.0/252, 1.0]\n",
    "#time step\n",
    "step = 1.0/252\n"
   ]
  },
  {
   "cell_type": "code",
   "execution_count": 3,
   "metadata": {},
   "outputs": [],
   "source": [
    "#compute state price and probability \n",
    "#up state price\n",
    "u = np.exp(sigma * np.sqrt(step))\n",
    "#down state price\n",
    "d = 1.0/u\n",
    "#prob of up state\n",
    "p = 0.5 + 0.5* (mu/sigma) * np.sqrt(step)"
   ]
  },
  {
   "cell_type": "code",
   "execution_count": 5,
   "metadata": {},
   "outputs": [],
   "source": [
    "#binomial tree\n",
    "up_times = np.zeros((N,len(T)))\n",
    "down_times = np.zeros((N,len(T)))\n",
    "for idx in range(len(T)):\n",
    "    up_times[:,idx] = np.random.binomial(T[idx]/step, p , N)\n",
    "    down_times[:,idx] = T[idx]/step - up_times[:,idx]\n"
   ]
  },
  {
   "cell_type": "code",
   "execution_count": 6,
   "metadata": {},
   "outputs": [],
   "source": [
    "#terminal price\n",
    "ST = S0 * u **up_times * d**down_times"
   ]
  },
  {
   "cell_type": "code",
   "execution_count": 15,
   "metadata": {},
   "outputs": [
    {
     "data": {
      "image/png": "[encoded data removed]",
      "text/plain": [
       "<Figure size 432x288 with 1 Axes>"
      ]
     },
     "metadata": {
      "needs_background": "light"
     },
     "output_type": "display_data"
    }
   ],
   "source": [
    "#visualisation\n",
    "import matplotlib.pyplot as plt\n",
    "plt.figure()\n",
    "plt.plot(ST[:,0], color = 'b', alpha = 0.5, label= '1 month horizon')\n",
    "plt.plot(ST[:,1], color = 'r', alpha= 0.5, label='1 year horizon')\n",
    "plt.xlabel('time step,day')\n",
    "plt.ylabel('price')\n",
    "plt.title('binomial tree stock simulation')\n",
    "plt.legend()\n",
    "plt.show()"
   ]
  },
  {
   "cell_type": "code",
   "execution_count": null,
   "metadata": {},
   "outputs": [],
   "source": [
    "plt.figure()\n",
    "plt.hist(ST[:,0], color = 'b', alpha = 0.5, label = '1 month horizon')\n",
    "plt.hist(ST[:,1], color= 'r', alpha=0.5, label = '1 year horizon')\n",
    "plt.xlabel('price')\n",
    "plt.ylabel('count')\n",
    "plt.title('binomial tree stock simulation')\n",
    "plt.legend()\n",
    "plt.show()"
   ]
  }
 ],
 "metadata": {
  "kernelspec": {
   "display_name": "Python 3",
   "language": "python",
   "name": "python3"
  },
  "language_info": {
   "codemirror_mode": {
    "name": "ipython",
    "version": 3
   },
   "file_extension": ".py",
   "mimetype": "text/x-python",
   "name": "python",
   "nbconvert_exporter": "python",
   "pygments_lexer": "ipython3",
   "version": "3.7.7"
  }
 },
 "nbformat": 4,
 "nbformat_minor": 4
}
